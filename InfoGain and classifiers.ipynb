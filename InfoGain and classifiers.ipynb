{
 "cells": [
  {
   "cell_type": "markdown",
   "metadata": {},
   "source": [
    "# Classifiers"
   ]
  },
  {
   "cell_type": "code",
   "execution_count": 1,
   "metadata": {},
   "outputs": [],
   "source": [
    "import numpy as np\n",
    "import pandas as pd\n",
    "import matplotlib.pyplot as plt"
   ]
  },
  {
   "cell_type": "code",
   "execution_count": 2,
   "metadata": {},
   "outputs": [],
   "source": [
    "infogain_features=pd.read_csv('infogain_features.csv')"
   ]
  },
  {
   "cell_type": "code",
   "execution_count": 3,
   "metadata": {},
   "outputs": [
    {
     "data": {
      "text/html": [
       "<div>\n",
       "<style scoped>\n",
       "    .dataframe tbody tr th:only-of-type {\n",
       "        vertical-align: middle;\n",
       "    }\n",
       "\n",
       "    .dataframe tbody tr th {\n",
       "        vertical-align: top;\n",
       "    }\n",
       "\n",
       "    .dataframe thead th {\n",
       "        text-align: right;\n",
       "    }\n",
       "</style>\n",
       "<table border=\"1\" class=\"dataframe\">\n",
       "  <thead>\n",
       "    <tr style=\"text-align: right;\">\n",
       "      <th></th>\n",
       "      <th>age</th>\n",
       "      <th>MFCC-1</th>\n",
       "      <th>MFCC-3</th>\n",
       "      <th>MFCC-6</th>\n",
       "      <th>MFCC-11</th>\n",
       "      <th>MFCC-12</th>\n",
       "      <th>MFCC-10</th>\n",
       "      <th>1st-derivative</th>\n",
       "      <th>status</th>\n",
       "    </tr>\n",
       "  </thead>\n",
       "  <tbody>\n",
       "    <tr>\n",
       "      <th>0</th>\n",
       "      <td>0</td>\n",
       "      <td>-0.129712</td>\n",
       "      <td>-0.218797</td>\n",
       "      <td>-0.297418</td>\n",
       "      <td>-0.182316</td>\n",
       "      <td>-0.113946</td>\n",
       "      <td>0.478073</td>\n",
       "      <td>0.845591</td>\n",
       "      <td>0</td>\n",
       "    </tr>\n",
       "    <tr>\n",
       "      <th>1</th>\n",
       "      <td>0</td>\n",
       "      <td>0.199122</td>\n",
       "      <td>0.130936</td>\n",
       "      <td>0.309148</td>\n",
       "      <td>0.124619</td>\n",
       "      <td>0.314070</td>\n",
       "      <td>0.151716</td>\n",
       "      <td>-0.001756</td>\n",
       "      <td>0</td>\n",
       "    </tr>\n",
       "    <tr>\n",
       "      <th>2</th>\n",
       "      <td>0</td>\n",
       "      <td>-0.040987</td>\n",
       "      <td>-0.314355</td>\n",
       "      <td>-0.042278</td>\n",
       "      <td>0.415858</td>\n",
       "      <td>-0.509541</td>\n",
       "      <td>0.155618</td>\n",
       "      <td>0.472397</td>\n",
       "      <td>0</td>\n",
       "    </tr>\n",
       "    <tr>\n",
       "      <th>3</th>\n",
       "      <td>0</td>\n",
       "      <td>0.188057</td>\n",
       "      <td>-0.344777</td>\n",
       "      <td>0.237518</td>\n",
       "      <td>-0.405171</td>\n",
       "      <td>0.207515</td>\n",
       "      <td>0.539237</td>\n",
       "      <td>-0.187704</td>\n",
       "      <td>0</td>\n",
       "    </tr>\n",
       "    <tr>\n",
       "      <th>4</th>\n",
       "      <td>0</td>\n",
       "      <td>-0.063104</td>\n",
       "      <td>-0.503092</td>\n",
       "      <td>0.244397</td>\n",
       "      <td>0.049041</td>\n",
       "      <td>-0.377004</td>\n",
       "      <td>0.497271</td>\n",
       "      <td>0.032773</td>\n",
       "      <td>0</td>\n",
       "    </tr>\n",
       "    <tr>\n",
       "      <th>...</th>\n",
       "      <td>...</td>\n",
       "      <td>...</td>\n",
       "      <td>...</td>\n",
       "      <td>...</td>\n",
       "      <td>...</td>\n",
       "      <td>...</td>\n",
       "      <td>...</td>\n",
       "      <td>...</td>\n",
       "      <td>...</td>\n",
       "    </tr>\n",
       "    <tr>\n",
       "      <th>1359</th>\n",
       "      <td>4</td>\n",
       "      <td>0.017790</td>\n",
       "      <td>-0.015766</td>\n",
       "      <td>-0.068605</td>\n",
       "      <td>0.367106</td>\n",
       "      <td>-0.123831</td>\n",
       "      <td>-0.230444</td>\n",
       "      <td>0.096462</td>\n",
       "      <td>1</td>\n",
       "    </tr>\n",
       "    <tr>\n",
       "      <th>1360</th>\n",
       "      <td>4</td>\n",
       "      <td>0.784509</td>\n",
       "      <td>-0.508726</td>\n",
       "      <td>0.243823</td>\n",
       "      <td>0.507744</td>\n",
       "      <td>-0.028612</td>\n",
       "      <td>-0.078936</td>\n",
       "      <td>-0.218072</td>\n",
       "      <td>1</td>\n",
       "    </tr>\n",
       "    <tr>\n",
       "      <th>1361</th>\n",
       "      <td>4</td>\n",
       "      <td>-0.452221</td>\n",
       "      <td>0.573179</td>\n",
       "      <td>0.073117</td>\n",
       "      <td>-0.049506</td>\n",
       "      <td>0.143463</td>\n",
       "      <td>0.230552</td>\n",
       "      <td>0.561805</td>\n",
       "      <td>1</td>\n",
       "    </tr>\n",
       "    <tr>\n",
       "      <th>1362</th>\n",
       "      <td>4</td>\n",
       "      <td>-0.057950</td>\n",
       "      <td>0.036295</td>\n",
       "      <td>0.132781</td>\n",
       "      <td>-0.044978</td>\n",
       "      <td>0.461731</td>\n",
       "      <td>-0.127805</td>\n",
       "      <td>0.130035</td>\n",
       "      <td>1</td>\n",
       "    </tr>\n",
       "    <tr>\n",
       "      <th>1363</th>\n",
       "      <td>4</td>\n",
       "      <td>0.410811</td>\n",
       "      <td>0.133389</td>\n",
       "      <td>0.238091</td>\n",
       "      <td>-0.106707</td>\n",
       "      <td>0.018139</td>\n",
       "      <td>-0.101330</td>\n",
       "      <td>-0.119019</td>\n",
       "      <td>1</td>\n",
       "    </tr>\n",
       "  </tbody>\n",
       "</table>\n",
       "<p>1364 rows × 9 columns</p>\n",
       "</div>"
      ],
      "text/plain": [
       "      age    MFCC-1    MFCC-3    MFCC-6   MFCC-11   MFCC-12   MFCC-10  \\\n",
       "0       0 -0.129712 -0.218797 -0.297418 -0.182316 -0.113946  0.478073   \n",
       "1       0  0.199122  0.130936  0.309148  0.124619  0.314070  0.151716   \n",
       "2       0 -0.040987 -0.314355 -0.042278  0.415858 -0.509541  0.155618   \n",
       "3       0  0.188057 -0.344777  0.237518 -0.405171  0.207515  0.539237   \n",
       "4       0 -0.063104 -0.503092  0.244397  0.049041 -0.377004  0.497271   \n",
       "...   ...       ...       ...       ...       ...       ...       ...   \n",
       "1359    4  0.017790 -0.015766 -0.068605  0.367106 -0.123831 -0.230444   \n",
       "1360    4  0.784509 -0.508726  0.243823  0.507744 -0.028612 -0.078936   \n",
       "1361    4 -0.452221  0.573179  0.073117 -0.049506  0.143463  0.230552   \n",
       "1362    4 -0.057950  0.036295  0.132781 -0.044978  0.461731 -0.127805   \n",
       "1363    4  0.410811  0.133389  0.238091 -0.106707  0.018139 -0.101330   \n",
       "\n",
       "      1st-derivative  status  \n",
       "0           0.845591       0  \n",
       "1          -0.001756       0  \n",
       "2           0.472397       0  \n",
       "3          -0.187704       0  \n",
       "4           0.032773       0  \n",
       "...              ...     ...  \n",
       "1359        0.096462       1  \n",
       "1360       -0.218072       1  \n",
       "1361        0.561805       1  \n",
       "1362        0.130035       1  \n",
       "1363       -0.119019       1  \n",
       "\n",
       "[1364 rows x 9 columns]"
      ]
     },
     "execution_count": 3,
     "metadata": {},
     "output_type": "execute_result"
    }
   ],
   "source": [
    "infogain_features"
   ]
  },
  {
   "cell_type": "markdown",
   "metadata": {},
   "source": [
    "# SVM"
   ]
  },
  {
   "cell_type": "code",
   "execution_count": 79,
   "metadata": {},
   "outputs": [
    {
     "name": "stdout",
     "output_type": "stream",
     "text": [
      "Accuracy score 0.780\n"
     ]
    }
   ],
   "source": [
    "# Sklearn modules & classes\n",
    "from sklearn.linear_model import Perceptron, LogisticRegression\n",
    "from sklearn.svm import SVC\n",
    "from sklearn.model_selection import train_test_split\n",
    "from sklearn.preprocessing import StandardScaler\n",
    "from sklearn import datasets\n",
    "from sklearn import metrics\n",
    "\n",
    "X = infogain_features.drop('status', axis=1)\n",
    "y = infogain_features['status']\n",
    " \n",
    "\n",
    "X_train, X_test, y_train, y_test = train_test_split(X, y, test_size=0.3, random_state=1, stratify=y)\n",
    "sc = StandardScaler()\n",
    "sc.fit(X_train)\n",
    "X_train_std = sc.transform(X_train)\n",
    "X_test_std = sc.transform(X_test)\n",
    "\n",
    "#The Support Vector Classifier (SVC)\n",
    "svc = SVC(C=1,kernel='rbf')\n",
    " \n",
    "# Fit the model\n",
    "svc.fit(X_train_std, y_train)\n",
    "\n",
    "\n",
    "# Make the predictions\n",
    "y_predict = svc.predict(X_test_std)\n",
    " \n",
    "# Measure the performance\n",
    "print(\"Accuracy score %.3f\" %metrics.accuracy_score(y_test, y_predict))"
   ]
  },
  {
   "cell_type": "markdown",
   "metadata": {},
   "source": []
  },
  {
   "cell_type": "code",
   "execution_count": null,
   "metadata": {},
   "outputs": [],
   "source": []
  },
  {
   "cell_type": "markdown",
   "metadata": {},
   "source": [
    "# Naive Bayes Classifier"
   ]
  },
  {
   "cell_type": "code",
   "execution_count": 80,
   "metadata": {},
   "outputs": [
    {
     "name": "stdout",
     "output_type": "stream",
     "text": [
      "Accuracy: 0.748780487804878\n",
      "F1 Score: 0.7498746978196968\n"
     ]
    }
   ],
   "source": [
    "from sklearn.naive_bayes import GaussianNB\n",
    "\n",
    "model = GaussianNB()\n",
    "\n",
    "model.fit(X_train, y_train)\n",
    "\n",
    "from sklearn.metrics import (\n",
    "    accuracy_score,\n",
    "    confusion_matrix,\n",
    "    ConfusionMatrixDisplay,\n",
    "    f1_score,\n",
    "    classification_report,\n",
    ")\n",
    "\n",
    "y_pred = model.predict(X_test)\n",
    "\n",
    "accuray = accuracy_score(y_pred, y_test)\n",
    "f1 = f1_score(y_pred, y_test, average=\"weighted\")\n",
    "\n",
    "print(\"Accuracy:\", accuray)\n",
    "print(\"F1 Score:\", f1)"
   ]
  },
  {
   "cell_type": "code",
   "execution_count": null,
   "metadata": {},
   "outputs": [],
   "source": []
  },
  {
   "cell_type": "markdown",
   "metadata": {},
   "source": [
    "# Random Forest"
   ]
  },
  {
   "cell_type": "code",
   "execution_count": 87,
   "metadata": {},
   "outputs": [
    {
     "name": "stdout",
     "output_type": "stream",
     "text": [
      "Accuracy: 0.8058608058608059\n"
     ]
    }
   ],
   "source": [
    "from sklearn.ensemble import RandomForestClassifier\n",
    "from sklearn.metrics import accuracy_score, confusion_matrix, precision_score, recall_score, ConfusionMatrixDisplay\n",
    "from sklearn.model_selection import RandomizedSearchCV, train_test_split\n",
    "from scipy.stats import randint\n",
    "\n",
    "\n",
    "\n",
    "X = infogain_features.drop('status', axis=1)\n",
    "y = infogain_features['status']\n",
    "\n",
    "\n",
    "X_train, X_test, y_train, y_test = train_test_split(X, y, test_size=0.2)\n",
    "\n",
    "rf = RandomForestClassifier(n_estimators=190,max_depth=11,random_state=42)\n",
    "rf.fit(X_train, y_train)\n",
    "\n",
    "RandomForestClassifier\n",
    "RandomForestClassifier()\n",
    "y_pred = rf.predict(X_test)\n",
    "accuracy = accuracy_score(y_test, y_pred)\n",
    "print(\"Accuracy:\", accuracy)"
   ]
  },
  {
   "cell_type": "code",
   "execution_count": null,
   "metadata": {},
   "outputs": [],
   "source": []
  },
  {
   "cell_type": "markdown",
   "metadata": {},
   "source": [
    "# KNN"
   ]
  },
  {
   "cell_type": "code",
   "execution_count": 50,
   "metadata": {},
   "outputs": [
    {
     "name": "stdout",
     "output_type": "stream",
     "text": [
      "Accuracy: 0.7948717948717948\n",
      "Classification Report:\n",
      "               precision    recall  f1-score   support\n",
      "\n",
      "           0       0.82      0.78      0.80       144\n",
      "           1       0.77      0.81      0.79       129\n",
      "\n",
      "    accuracy                           0.79       273\n",
      "   macro avg       0.79      0.80      0.79       273\n",
      "weighted avg       0.80      0.79      0.80       273\n",
      "\n",
      "Confusion Matrix:\n",
      " [[113  31]\n",
      " [ 25 104]]\n"
     ]
    }
   ],
   "source": [
    "from sklearn.neighbors import KNeighborsClassifier\n",
    "\n",
    "X = infogain_features.drop('status', axis=1)\n",
    "y = infogain_features['status']\n",
    "X_train, X_test, y_train, y_test = train_test_split(X, y, test_size=0.2, random_state=42)\n",
    "\n",
    "scaler = StandardScaler()\n",
    "X_train_scaled = scaler.fit_transform(X_train)\n",
    "X_test_scaled = scaler.transform(X_test)\n",
    "\n",
    "knn_classifier = KNeighborsClassifier(n_neighbors=5,metric='euclidean', weights='uniform')  # You can choose the value of k (number of neighbors) based on your preference or using cross-validation.\n",
    "\n",
    "knn_classifier.fit(X_train, y_train)\n",
    "\n",
    "\n",
    "KNeighborsClassifier\n",
    "KNeighborsClassifier()\n",
    "y_pred = knn_classifier.predict(X_test)\n",
    "\n",
    "accuracy = accuracy_score(y_test, y_pred)\n",
    "print(\"Accuracy:\", accuracy)\n",
    "\n",
    "classification_rep = classification_report(y_test, y_pred)\n",
    "print(\"Classification Report:\\n\", classification_rep)\n",
    "\n",
    "conf_matrix = confusion_matrix(y_test, y_pred)\n",
    "print(\"Confusion Matrix:\\n\", conf_matrix)"
   ]
  },
  {
   "cell_type": "code",
   "execution_count": null,
   "metadata": {},
   "outputs": [],
   "source": []
  },
  {
   "cell_type": "markdown",
   "metadata": {},
   "source": [
    "# Gradient Boosting Classifier "
   ]
  },
  {
   "cell_type": "code",
   "execution_count": 47,
   "metadata": {},
   "outputs": [
    {
     "name": "stdout",
     "output_type": "stream",
     "text": [
      "Accuracy: 0.7582417582417582\n",
      "Classification Report:\n",
      "               precision    recall  f1-score   support\n",
      "\n",
      "           0       0.77      0.76      0.77       144\n",
      "           1       0.74      0.75      0.75       129\n",
      "\n",
      "    accuracy                           0.76       273\n",
      "   macro avg       0.76      0.76      0.76       273\n",
      "weighted avg       0.76      0.76      0.76       273\n",
      "\n",
      "Confusion Matrix:\n",
      " [[110  34]\n",
      " [ 32  97]]\n"
     ]
    }
   ],
   "source": [
    "from sklearn.ensemble import GradientBoostingClassifier\n",
    "from sklearn.model_selection import GridSearchCV\n",
    "\n",
    "X = infogain_features.drop('status', axis=1)\n",
    "y = infogain_features['status']\n",
    "\n",
    "X_train, X_test, y_train, y_test = train_test_split(X, y, test_size=0.2, random_state=42)\n",
    "\n",
    "# Create an instance of the Gradient Boosting Classifier\n",
    "gb_classifier = GradientBoostingClassifier(learning_rate= 0.1, max_depth= 3, n_estimators= 50)\n",
    "\n",
    "# Fit the classifier to the training data\n",
    "gb_classifier.fit(X_train, y_train)\n",
    "\n",
    "# Make predictions on the test set\n",
    "y_pred = gb_classifier.predict(X_test)\n",
    "\n",
    "# Evaluate the classifier's performance\n",
    "accuracy = accuracy_score(y_test, y_pred)\n",
    "print(\"Accuracy:\", accuracy)\n",
    "\n",
    "classification_rep = classification_report(y_test, y_pred)\n",
    "print(\"Classification Report:\\n\", classification_rep)\n",
    "\n",
    "conf_matrix = confusion_matrix(y_test, y_pred)\n",
    "print(\"Confusion Matrix:\\n\", conf_matrix)\n"
   ]
  },
  {
   "cell_type": "code",
   "execution_count": null,
   "metadata": {},
   "outputs": [],
   "source": []
  }
 ],
 "metadata": {
  "kernelspec": {
   "display_name": "Python 3",
   "language": "python",
   "name": "python3"
  },
  "language_info": {
   "codemirror_mode": {
    "name": "ipython",
    "version": 3
   },
   "file_extension": ".py",
   "mimetype": "text/x-python",
   "name": "python",
   "nbconvert_exporter": "python",
   "pygments_lexer": "ipython3",
   "version": "3.8.3"
  }
 },
 "nbformat": 4,
 "nbformat_minor": 2
}
