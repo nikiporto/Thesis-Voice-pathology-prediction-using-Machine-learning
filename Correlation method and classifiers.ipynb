{
 "cells": [
  {
   "cell_type": "code",
   "execution_count": 2,
   "metadata": {},
   "outputs": [],
   "source": [
    "import numpy as np\n",
    "import pandas as pd\n",
    "import matplotlib.pyplot as plt"
   ]
  },
  {
   "cell_type": "markdown",
   "metadata": {},
   "source": [
    "# Classifiers"
   ]
  },
  {
   "cell_type": "code",
   "execution_count": 3,
   "metadata": {},
   "outputs": [],
   "source": [
    "correlationmethod_features=pd.read_csv('correlationmethod_features.csv')"
   ]
  },
  {
   "cell_type": "code",
   "execution_count": 4,
   "metadata": {},
   "outputs": [
    {
     "data": {
      "text/html": [
       "<div>\n",
       "<style scoped>\n",
       "    .dataframe tbody tr th:only-of-type {\n",
       "        vertical-align: middle;\n",
       "    }\n",
       "\n",
       "    .dataframe tbody tr th {\n",
       "        vertical-align: top;\n",
       "    }\n",
       "\n",
       "    .dataframe thead th {\n",
       "        text-align: right;\n",
       "    }\n",
       "</style>\n",
       "<table border=\"1\" class=\"dataframe\">\n",
       "  <thead>\n",
       "    <tr style=\"text-align: right;\">\n",
       "      <th></th>\n",
       "      <th>age</th>\n",
       "      <th>status</th>\n",
       "      <th>1st-derivative</th>\n",
       "      <th>MFCC-3</th>\n",
       "      <th>MFCC-1</th>\n",
       "      <th>MFCC-8</th>\n",
       "      <th>2nd-derivative</th>\n",
       "    </tr>\n",
       "  </thead>\n",
       "  <tbody>\n",
       "    <tr>\n",
       "      <th>0</th>\n",
       "      <td>0</td>\n",
       "      <td>0</td>\n",
       "      <td>0.845591</td>\n",
       "      <td>-0.218797</td>\n",
       "      <td>-0.129712</td>\n",
       "      <td>-0.186073</td>\n",
       "      <td>-0.127952</td>\n",
       "    </tr>\n",
       "    <tr>\n",
       "      <th>1</th>\n",
       "      <td>0</td>\n",
       "      <td>0</td>\n",
       "      <td>-0.001756</td>\n",
       "      <td>0.130936</td>\n",
       "      <td>0.199122</td>\n",
       "      <td>0.525699</td>\n",
       "      <td>0.332969</td>\n",
       "    </tr>\n",
       "    <tr>\n",
       "      <th>2</th>\n",
       "      <td>0</td>\n",
       "      <td>0</td>\n",
       "      <td>0.472397</td>\n",
       "      <td>-0.314355</td>\n",
       "      <td>-0.040987</td>\n",
       "      <td>0.404296</td>\n",
       "      <td>0.122602</td>\n",
       "    </tr>\n",
       "    <tr>\n",
       "      <th>3</th>\n",
       "      <td>0</td>\n",
       "      <td>0</td>\n",
       "      <td>-0.187704</td>\n",
       "      <td>-0.344777</td>\n",
       "      <td>0.188057</td>\n",
       "      <td>0.015810</td>\n",
       "      <td>0.075846</td>\n",
       "    </tr>\n",
       "    <tr>\n",
       "      <th>4</th>\n",
       "      <td>0</td>\n",
       "      <td>0</td>\n",
       "      <td>0.032773</td>\n",
       "      <td>-0.503092</td>\n",
       "      <td>-0.063104</td>\n",
       "      <td>-0.074376</td>\n",
       "      <td>-0.020662</td>\n",
       "    </tr>\n",
       "    <tr>\n",
       "      <th>...</th>\n",
       "      <td>...</td>\n",
       "      <td>...</td>\n",
       "      <td>...</td>\n",
       "      <td>...</td>\n",
       "      <td>...</td>\n",
       "      <td>...</td>\n",
       "      <td>...</td>\n",
       "    </tr>\n",
       "    <tr>\n",
       "      <th>1359</th>\n",
       "      <td>4</td>\n",
       "      <td>1</td>\n",
       "      <td>0.096462</td>\n",
       "      <td>-0.015766</td>\n",
       "      <td>0.017790</td>\n",
       "      <td>0.455689</td>\n",
       "      <td>0.420961</td>\n",
       "    </tr>\n",
       "    <tr>\n",
       "      <th>1360</th>\n",
       "      <td>4</td>\n",
       "      <td>1</td>\n",
       "      <td>-0.218072</td>\n",
       "      <td>-0.508726</td>\n",
       "      <td>0.784509</td>\n",
       "      <td>0.103626</td>\n",
       "      <td>0.850308</td>\n",
       "    </tr>\n",
       "    <tr>\n",
       "      <th>1361</th>\n",
       "      <td>4</td>\n",
       "      <td>1</td>\n",
       "      <td>0.561805</td>\n",
       "      <td>0.573179</td>\n",
       "      <td>-0.452221</td>\n",
       "      <td>0.271044</td>\n",
       "      <td>-0.017558</td>\n",
       "    </tr>\n",
       "    <tr>\n",
       "      <th>1362</th>\n",
       "      <td>4</td>\n",
       "      <td>1</td>\n",
       "      <td>0.130035</td>\n",
       "      <td>0.036295</td>\n",
       "      <td>-0.057950</td>\n",
       "      <td>-0.112799</td>\n",
       "      <td>0.227775</td>\n",
       "    </tr>\n",
       "    <tr>\n",
       "      <th>1363</th>\n",
       "      <td>4</td>\n",
       "      <td>1</td>\n",
       "      <td>-0.119019</td>\n",
       "      <td>0.133389</td>\n",
       "      <td>0.410811</td>\n",
       "      <td>0.647449</td>\n",
       "      <td>0.340040</td>\n",
       "    </tr>\n",
       "  </tbody>\n",
       "</table>\n",
       "<p>1364 rows × 7 columns</p>\n",
       "</div>"
      ],
      "text/plain": [
       "      age  status  1st-derivative    MFCC-3    MFCC-1    MFCC-8  \\\n",
       "0       0       0        0.845591 -0.218797 -0.129712 -0.186073   \n",
       "1       0       0       -0.001756  0.130936  0.199122  0.525699   \n",
       "2       0       0        0.472397 -0.314355 -0.040987  0.404296   \n",
       "3       0       0       -0.187704 -0.344777  0.188057  0.015810   \n",
       "4       0       0        0.032773 -0.503092 -0.063104 -0.074376   \n",
       "...   ...     ...             ...       ...       ...       ...   \n",
       "1359    4       1        0.096462 -0.015766  0.017790  0.455689   \n",
       "1360    4       1       -0.218072 -0.508726  0.784509  0.103626   \n",
       "1361    4       1        0.561805  0.573179 -0.452221  0.271044   \n",
       "1362    4       1        0.130035  0.036295 -0.057950 -0.112799   \n",
       "1363    4       1       -0.119019  0.133389  0.410811  0.647449   \n",
       "\n",
       "      2nd-derivative  \n",
       "0          -0.127952  \n",
       "1           0.332969  \n",
       "2           0.122602  \n",
       "3           0.075846  \n",
       "4          -0.020662  \n",
       "...              ...  \n",
       "1359        0.420961  \n",
       "1360        0.850308  \n",
       "1361       -0.017558  \n",
       "1362        0.227775  \n",
       "1363        0.340040  \n",
       "\n",
       "[1364 rows x 7 columns]"
      ]
     },
     "execution_count": 4,
     "metadata": {},
     "output_type": "execute_result"
    }
   ],
   "source": [
    "correlationmethod_features"
   ]
  },
  {
   "cell_type": "markdown",
   "metadata": {},
   "source": [
    "# SVM"
   ]
  },
  {
   "cell_type": "code",
   "execution_count": 26,
   "metadata": {},
   "outputs": [
    {
     "name": "stdout",
     "output_type": "stream",
     "text": [
      "Accuracy score 0.783\n"
     ]
    }
   ],
   "source": [
    "# Sklearn modules & classes\n",
    "from sklearn.linear_model import Perceptron, LogisticRegression\n",
    "from sklearn.svm import SVC\n",
    "from sklearn.model_selection import train_test_split\n",
    "from sklearn.preprocessing import StandardScaler\n",
    "from sklearn import datasets\n",
    "from sklearn import metrics\n",
    "\n",
    "X = correlationmethod_features.drop('status', axis=1)\n",
    "y = correlationmethod_features['status']\n",
    " \n",
    "# Create training and test split\n",
    "X_train, X_test, y_train, y_test = train_test_split(X, y, test_size=0.3, random_state=1, stratify=y)\n",
    "sc = StandardScaler()\n",
    "sc.fit(X_train)\n",
    "X_train_std = sc.transform(X_train)\n",
    "X_test_std = sc.transform(X_test)\n",
    "# Instantiate the Support Vector Classifier (SVC)\n",
    "svc = SVC(C=10,kernel='poly')\n",
    " \n",
    "# Fit the model\n",
    "svc.fit(X_train_std, y_train)\n",
    "\n",
    "\n",
    "# Make the predictions\n",
    "y_predict = svc.predict(X_test_std)\n",
    " \n",
    "# Measure the performance\n",
    "print(\"Accuracy score %.3f\" %metrics.accuracy_score(y_test, y_predict))"
   ]
  },
  {
   "cell_type": "code",
   "execution_count": null,
   "metadata": {},
   "outputs": [],
   "source": []
  },
  {
   "cell_type": "markdown",
   "metadata": {},
   "source": [
    "# Naive Bayes Classifier"
   ]
  },
  {
   "cell_type": "code",
   "execution_count": 20,
   "metadata": {},
   "outputs": [
    {
     "name": "stdout",
     "output_type": "stream",
     "text": [
      "Accuracy: 0.7435897435897436\n",
      "F1 Score: 0.7435897435897437\n"
     ]
    }
   ],
   "source": [
    "from sklearn.naive_bayes import GaussianNB\n",
    "\n",
    "model = GaussianNB()\n",
    "\n",
    "model.fit(X_train, y_train)\n",
    "\n",
    "from sklearn.metrics import (\n",
    "    accuracy_score,\n",
    "    confusion_matrix,\n",
    "    ConfusionMatrixDisplay,\n",
    "    f1_score,\n",
    "    classification_report,\n",
    ")\n",
    "\n",
    "y_pred = model.predict(X_test)\n",
    "\n",
    "accuray = accuracy_score(y_pred, y_test)\n",
    "f1 = f1_score(y_pred, y_test, average=\"micro\")\n",
    "\n",
    "print(\"Accuracy:\", accuray)\n",
    "print(\"F1 Score:\", f1)"
   ]
  },
  {
   "cell_type": "code",
   "execution_count": null,
   "metadata": {},
   "outputs": [],
   "source": []
  },
  {
   "cell_type": "markdown",
   "metadata": {},
   "source": [
    "# Random Forest"
   ]
  },
  {
   "cell_type": "code",
   "execution_count": 38,
   "metadata": {},
   "outputs": [
    {
     "name": "stdout",
     "output_type": "stream",
     "text": [
      "Accuracy: 0.8351648351648352\n"
     ]
    }
   ],
   "source": [
    "from sklearn.ensemble import RandomForestClassifier\n",
    "from sklearn.metrics import accuracy_score, confusion_matrix, precision_score, recall_score, ConfusionMatrixDisplay\n",
    "from sklearn.model_selection import RandomizedSearchCV, train_test_split\n",
    "from scipy.stats import randint\n",
    "\n",
    "\n",
    "X = correlationmethod_features.drop('status', axis=1)\n",
    "y = correlationmethod_features['status']\n",
    "\n",
    "\n",
    "X_train, X_test, y_train, y_test = train_test_split(X, y, test_size=0.2)\n",
    "\n",
    "rf = RandomForestClassifier(n_estimators=365,max_depth=10,random_state=42)\n",
    "rf.fit(X_train, y_train)\n",
    "\n",
    "RandomForestClassifier\n",
    "RandomForestClassifier()\n",
    "y_pred = rf.predict(X_test)\n",
    "accuracy = accuracy_score(y_test, y_pred)\n",
    "print(\"Accuracy:\", accuracy)"
   ]
  },
  {
   "cell_type": "code",
   "execution_count": null,
   "metadata": {},
   "outputs": [],
   "source": []
  },
  {
   "cell_type": "markdown",
   "metadata": {},
   "source": [
    "# KNN"
   ]
  },
  {
   "cell_type": "code",
   "execution_count": 19,
   "metadata": {},
   "outputs": [
    {
     "name": "stdout",
     "output_type": "stream",
     "text": [
      "Accuracy: 0.7912087912087912\n",
      "Classification Report:\n",
      "               precision    recall  f1-score   support\n",
      "\n",
      "           0       0.79      0.83      0.81       144\n",
      "           1       0.80      0.75      0.77       129\n",
      "\n",
      "    accuracy                           0.79       273\n",
      "   macro avg       0.79      0.79      0.79       273\n",
      "weighted avg       0.79      0.79      0.79       273\n",
      "\n",
      "Confusion Matrix:\n",
      " [[119  25]\n",
      " [ 32  97]]\n"
     ]
    }
   ],
   "source": [
    "from sklearn.neighbors import KNeighborsClassifier\n",
    "from sklearn.metrics import accuracy_score, classification_report, confusion_matrix\n",
    "\n",
    "\n",
    "X = correlationmethod_features.drop('status', axis=1)\n",
    "y = correlationmethod_features['status']\n",
    "X_train, X_test, y_train, y_test = train_test_split(X, y, test_size=0.2, random_state=42)\n",
    "\n",
    "scaler = StandardScaler()\n",
    "X_train_scaled = scaler.fit_transform(X_train)\n",
    "X_test_scaled = scaler.transform(X_test)\n",
    "\n",
    "knn_classifier = KNeighborsClassifier(n_neighbors=40) \n",
    "\n",
    "knn_classifier.fit(X_train, y_train)\n",
    "\n",
    "\n",
    "KNeighborsClassifier\n",
    "KNeighborsClassifier()\n",
    "y_pred = knn_classifier.predict(X_test)\n",
    "\n",
    "accuracy = accuracy_score(y_test, y_pred)\n",
    "print(\"Accuracy:\", accuracy)\n",
    "\n",
    "classification_rep = classification_report(y_test, y_pred)\n",
    "print(\"Classification Report:\\n\", classification_rep)\n",
    "\n",
    "conf_matrix = confusion_matrix(y_test, y_pred)\n",
    "print(\"Confusion Matrix:\\n\", conf_matrix)"
   ]
  },
  {
   "cell_type": "code",
   "execution_count": null,
   "metadata": {},
   "outputs": [],
   "source": []
  },
  {
   "cell_type": "markdown",
   "metadata": {},
   "source": [
    "# Gradient Boosting Classifier "
   ]
  },
  {
   "cell_type": "code",
   "execution_count": 7,
   "metadata": {},
   "outputs": [
    {
     "name": "stdout",
     "output_type": "stream",
     "text": [
      "Accuracy: 0.7582417582417582\n",
      "Classification Report:\n",
      "               precision    recall  f1-score   support\n",
      "\n",
      "           0       0.79      0.74      0.76       144\n",
      "           1       0.73      0.78      0.75       129\n",
      "\n",
      "    accuracy                           0.76       273\n",
      "   macro avg       0.76      0.76      0.76       273\n",
      "weighted avg       0.76      0.76      0.76       273\n",
      "\n",
      "Confusion Matrix:\n",
      " [[106  38]\n",
      " [ 28 101]]\n"
     ]
    }
   ],
   "source": [
    "from sklearn.ensemble import GradientBoostingClassifier\n",
    "from sklearn.metrics import accuracy_score, classification_report, confusion_matrix\n",
    "\n",
    "X = correlationmethod_features.drop('status', axis=1)\n",
    "y = correlationmethod_features['status']\n",
    "\n",
    "\n",
    "X_train, X_test, y_train, y_test = train_test_split(X, y, test_size=0.2, random_state=42)\n",
    "\n",
    "# Create an instance of the Gradient Boosting Classifier\n",
    "gb_classifier = GradientBoostingClassifier(learning_rate=0.01, max_depth=3, n_estimators=300)\n",
    "\n",
    "# Fit the classifier to the training data\n",
    "gb_classifier.fit(X_train, y_train)\n",
    "\n",
    "# Make predictions on the test set\n",
    "y_pred = gb_classifier.predict(X_test)\n",
    "\n",
    "# Evaluate the classifier's performance\n",
    "accuracy = accuracy_score(y_test, y_pred)\n",
    "print(\"Accuracy:\", accuracy)\n",
    "\n",
    "classification_rep = classification_report(y_test, y_pred)\n",
    "print(\"Classification Report:\\n\", classification_rep)\n",
    "\n",
    "conf_matrix = confusion_matrix(y_test, y_pred)\n",
    "print(\"Confusion Matrix:\\n\", conf_matrix)\n"
   ]
  },
  {
   "cell_type": "code",
   "execution_count": null,
   "metadata": {},
   "outputs": [],
   "source": []
  }
 ],
 "metadata": {
  "kernelspec": {
   "display_name": "Python 3",
   "language": "python",
   "name": "python3"
  },
  "language_info": {
   "codemirror_mode": {
    "name": "ipython",
    "version": 3
   },
   "file_extension": ".py",
   "mimetype": "text/x-python",
   "name": "python",
   "nbconvert_exporter": "python",
   "pygments_lexer": "ipython3",
   "version": "3.8.3"
  }
 },
 "nbformat": 4,
 "nbformat_minor": 2
}
